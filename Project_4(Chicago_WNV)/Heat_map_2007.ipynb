{
 "cells": [
  {
   "cell_type": "code",
   "execution_count": 9,
   "metadata": {},
   "outputs": [],
   "source": [
    "\n",
    "from folium import plugins\n",
    "from folium.plugins import HeatMap\n",
    "import pandas as pd\n",
    "import folium\n",
    "\n",
    "train = pd.read_csv('train.csv')\n",
    "\n",
    "#Where in world and we focusing our map\n",
    "map_heat = folium.Map(location=[train.Latitude.mean(), train.Longitude.mean()], \n",
    "                   zoom_start = 10.3)\n",
    "\n",
    "# Ensure you're handing it floats\n",
    "train['Latitude'] = train['Latitude'].astype(float)\n",
    "train['Longitude'] = train['Longitude'].astype(float)\n",
    "\n",
    "train.Date = pd.to_datetime(train.Date, format='%Y-%m-%d')\n",
    "train['Year'] = train.Date.map(lambda x: x.year)\n",
    "\n",
    "#creating Dataframes were are going to use to map heatmaps by Year\n",
    "heat_df_07 = train[(train['Year']==2007) & (train['WnvPresent']==1)]\n",
    "heat_df_09 = train[(train['Year']==2009) & (train['WnvPresent']==1)]\n",
    "heat_df_11 = train[(train['Year']==2011) & (train['WnvPresent']==1)] \n",
    "heat_df_13 = train[(train['Year']==2011) & (train['WnvPresent']==1)]\n",
    "\n",
    "\n",
    "def plot_heat(df):\n",
    "    # List comprehension to make out list of lists, this is for 2007\n",
    "    heat_data = [[row['Latitude'],row['Longitude']] for index, row in df[['Latitude', 'Longitude']].iterrows()]\n",
    "    \n",
    "    # Plot it on the map\n",
    "    HeatMap(heat_data).add_to(map_heat)\n",
    "    \n",
    "    # Display the map \n",
    "    map_heat"
   ]
  },
  {
   "cell_type": "code",
   "execution_count": 10,
   "metadata": {},
   "outputs": [
    {
     "data": {
      "text/html": [
       "<div style=\"width:100%;\"><div style=\"position:relative;width:100%;height:0;padding-bottom:60%;\"><iframe src=\"data:text/html;charset=utf-8;base64,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\" style=\"position:absolute;width:100%;height:100%;left:0;top:0;border:none !important;\" allowfullscreen webkitallowfullscreen mozallowfullscreen></iframe></div></div>"
      ],
      "text/plain": [
       "<folium.folium.Map at 0x10b67ae48>"
      ]
     },
     "execution_count": 10,
     "metadata": {},
     "output_type": "execute_result"
    }
   ],
   "source": [
    "plot_heat(heat_df_07)\n",
    "map_heat"
   ]
  },
  {
   "cell_type": "code",
   "execution_count": 3,
   "metadata": {},
   "outputs": [],
   "source": [
    "from folium import plugins\n",
    "from folium.plugins import HeatMap\n",
    "import pandas as pd\n",
    "import folium\n",
    "\n",
    "train = pd.read_csv('train.csv')\n",
    "\n",
    "#Where in world and we focusing our map\n",
    "map_heat = folium.Map(location=[train.Latitude.mean(), train.Longitude.mean()], \n",
    "                   zoom_start = 10.3)\n",
    "\n",
    "# Ensure you're handing it floats\n",
    "train['Latitude'] = train['Latitude'].astype(float)\n",
    "train['Longitude'] = train['Longitude'].astype(float)\n",
    "\n",
    "train.Date = pd.to_datetime(train.Date, format='%Y-%m-%d')\n",
    "train['Year'] = train.Date.map(lambda x: x.year)\n",
    "\n",
    "#creating Dataframes were are going to use to map heatmaps by Year\n",
    "heat_df_07 = train[(train['Year']==2007) & (train['WnvPresent']==1)]\n",
    "heat_df_09 = train[(train['Year']==2009) & (train['WnvPresent']==1)]\n",
    "heat_df_11 = train[(train['Year']==2011) & (train['WnvPresent']==1)] \n",
    "heat_df_13 = train[(train['Year']==2011) & (train['WnvPresent']==1)]\n",
    "\n",
    "\n",
    "def plot_heat(df):\n",
    "    # List comprehension to make out list of lists, this is for 2007\n",
    "    heat_data = [[row['Latitude'],row['Longitude']] for index, row in df[['Latitude', 'Longitude']].iterrows()]\n",
    "    \n",
    "    # Plot it on the map\n",
    "    HeatMap(heat_data).add_to(map_heat)\n",
    "    \n",
    "    # Display the map \n",
    "    map_heat\n",
    "    \n",
    "locations = pd.DataFrame({\n",
    "    'Longitude':  [-87.579, -87.793, -87.655, -87.695, -87.700, -87.537, -87.748, -87.666, -87.600, -87.808], \n",
    "    'Latitude': [41.726, 41.990, 41.827, 41.927, 41.678, 41.683, 41.793, 41.729, 41.673, 41.945] })\n",
    "\n"
   ]
  },
  {
   "cell_type": "code",
   "execution_count": 8,
   "metadata": {
    "scrolled": true
   },
   "outputs": [
    {
     "data": {
      "text/html": [
       "<div style=\"width:100%;\"><div style=\"position:relative;width:100%;height:0;padding-bottom:60%;\"><iframe src=\"data:text/html;charset=utf-8;base64,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\" style=\"position:absolute;width:100%;height:100%;left:0;top:0;border:none !important;\" allowfullscreen webkitallowfullscreen mozallowfullscreen></iframe></div></div>"
      ],
      "text/plain": [
       "<folium.folium.Map at 0x106fdbef0>"
      ]
     },
     "execution_count": 8,
     "metadata": {},
     "output_type": "execute_result"
    }
   ],
   "source": [
    "plot_heat(heat_df_09)\n",
    "map_heat"
   ]
  },
  {
   "cell_type": "code",
   "execution_count": 6,
   "metadata": {},
   "outputs": [],
   "source": [
    "from folium import plugins\n",
    "from folium.plugins import HeatMap\n",
    "import pandas as pd\n",
    "import folium\n",
    "\n",
    "train = pd.read_csv('train.csv')\n",
    "\n",
    "#Where in world and we focusing our map\n",
    "map_heat = folium.Map(location=[train.Latitude.mean(), train.Longitude.mean()], \n",
    "                   zoom_start = 10.3)\n",
    "\n",
    "# Ensure you're handing it floats\n",
    "train['Latitude'] = train['Latitude'].astype(float)\n",
    "train['Longitude'] = train['Longitude'].astype(float)\n",
    "\n",
    "train.Date = pd.to_datetime(train.Date, format='%Y-%m-%d')\n",
    "train['Year'] = train.Date.map(lambda x: x.year)\n",
    "\n",
    "#creating Dataframes were are going to use to map heatmaps by Year\n",
    "heat_df_07 = train[(train['Year']==2007) & (train['WnvPresent']==1)]\n",
    "heat_df_09 = train[(train['Year']==2009) & (train['WnvPresent']==1)]\n",
    "heat_df_11 = train[(train['Year']==2011) & (train['WnvPresent']==1)] \n",
    "heat_df_13 = train[(train['Year']==2011) & (train['WnvPresent']==1)]\n",
    "\n",
    "\n",
    "def plot_heat(df):\n",
    "    # List comprehension to make out list of lists, this is for 2007\n",
    "    heat_data = [[row['Latitude'],row['Longitude']] for index, row in df[['Latitude', 'Longitude']].iterrows()]\n",
    "    \n",
    "    # Plot it on the map\n",
    "    HeatMap(heat_data).add_to(map_heat)\n",
    "    \n",
    "    # Display the map \n",
    "    map_heat\n",
    "    \n",
    "locations = pd.DataFrame({\n",
    "    'Longitude':  [-87.579, -87.793, -87.655, -87.695, -87.700, -87.537, -87.748, -87.666, -87.600, -87.808], \n",
    "    'Latitude': [41.726, 41.990, 41.827, 41.927, 41.678, 41.683, 41.793, 41.729, 41.673, 41.945] })\n",
    "\n",
    "\n"
   ]
  },
  {
   "cell_type": "code",
   "execution_count": 7,
   "metadata": {
    "scrolled": false
   },
   "outputs": [
    {
     "data": {
      "text/html": [
       "<div style=\"width:100%;\"><div style=\"position:relative;width:100%;height:0;padding-bottom:60%;\"><iframe src=\"data:text/html;charset=utf-8;base64,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\" style=\"position:absolute;width:100%;height:100%;left:0;top:0;border:none !important;\" allowfullscreen webkitallowfullscreen mozallowfullscreen></iframe></div></div>"
      ],
      "text/plain": [
       "<folium.folium.Map at 0x106fdbef0>"
      ]
     },
     "execution_count": 7,
     "metadata": {},
     "output_type": "execute_result"
    }
   ],
   "source": [
    "plot_heat(locations)\n",
    "map_heat"
   ]
  },
  {
   "cell_type": "code",
   "execution_count": null,
   "metadata": {},
   "outputs": [],
   "source": []
  }
 ],
 "metadata": {
  "kernelspec": {
   "display_name": "Python 3",
   "language": "python",
   "name": "python3"
  },
  "language_info": {
   "codemirror_mode": {
    "name": "ipython",
    "version": 3
   },
   "file_extension": ".py",
   "mimetype": "text/x-python",
   "name": "python",
   "nbconvert_exporter": "python",
   "pygments_lexer": "ipython3",
   "version": "3.6.4"
  }
 },
 "nbformat": 4,
 "nbformat_minor": 2
}
