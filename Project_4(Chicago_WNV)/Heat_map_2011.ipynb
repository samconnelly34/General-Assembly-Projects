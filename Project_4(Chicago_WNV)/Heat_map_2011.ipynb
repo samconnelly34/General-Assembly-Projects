{
 "cells": [
  {
   "cell_type": "code",
   "execution_count": 5,
   "metadata": {},
   "outputs": [],
   "source": [
    "\n",
    "from folium import plugins\n",
    "from folium.plugins import HeatMap\n",
    "import pandas as pd\n",
    "import folium\n",
    "\n",
    "train = pd.read_csv('train.csv')\n",
    "\n",
    "#Where in world and we focusing our map\n",
    "map_heat = folium.Map(location=[train.Latitude.mean(), train.Longitude.mean()], \n",
    "                   zoom_start = 10.3)\n",
    "\n",
    "# Ensure you're handing it floats\n",
    "train['Latitude'] = train['Latitude'].astype(float)\n",
    "train['Longitude'] = train['Longitude'].astype(float)\n",
    "\n",
    "train.Date = pd.to_datetime(train.Date, format='%Y-%m-%d')\n",
    "train['Year'] = train.Date.map(lambda x: x.year)\n",
    "\n",
    "#creating Dataframes were are going to use to map heatmaps by Year\n",
    "heat_df_07 = train[(train['Year']==2007) & (train['WnvPresent']==1)]\n",
    "heat_df_09 = train[(train['Year']==2009) & (train['WnvPresent']==1)]\n",
    "heat_df_11 = train[(train['Year']==2011) & (train['WnvPresent']==1)] \n",
    "heat_df_13 = train[(train['Year']==2013) & (train['WnvPresent']==1)]\n",
    "\n",
    "\n",
    "def plot_heat(df):\n",
    "    # List comprehension to make out list of lists, this is for 2007\n",
    "    heat_data = [[row['Latitude'],row['Longitude']] for index, row in df[['Latitude', 'Longitude']].iterrows()]\n",
    "    \n",
    "    # Plot it on the map\n",
    "    HeatMap(heat_data).add_to(map_heat)\n",
    "    \n",
    "    # Display the map \n",
    "    map_heat"
   ]
  },
  {
   "cell_type": "code",
   "execution_count": 6,
   "metadata": {},
   "outputs": [
    {
     "data": {
      "text/html": [
       "<div style=\"width:100%;\"><div style=\"position:relative;width:100%;height:0;padding-bottom:60%;\"><iframe src=\"data:text/html;charset=utf-8;base64,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\" style=\"position:absolute;width:100%;height:100%;left:0;top:0;border:none !important;\" allowfullscreen webkitallowfullscreen mozallowfullscreen></iframe></div></div>"
      ],
      "text/plain": [
       "<folium.folium.Map at 0x114bc6e80>"
      ]
     },
     "execution_count": 6,
     "metadata": {},
     "output_type": "execute_result"
    }
   ],
   "source": [
    "plot_heat(heat_df_11)\n",
    "map_heat"
   ]
  },
  {
   "cell_type": "code",
   "execution_count": 7,
   "metadata": {},
   "outputs": [],
   "source": [
    "from folium import plugins\n",
    "from folium.plugins import HeatMap\n",
    "import pandas as pd\n",
    "import folium\n",
    "\n",
    "train = pd.read_csv('train.csv')\n",
    "\n",
    "#Where in world and we focusing our map\n",
    "map_heat = folium.Map(location=[train.Latitude.mean(), train.Longitude.mean()], \n",
    "                   zoom_start = 10.3)\n",
    "\n",
    "# Ensure you're handing it floats\n",
    "train['Latitude'] = train['Latitude'].astype(float)\n",
    "train['Longitude'] = train['Longitude'].astype(float)\n",
    "\n",
    "train.Date = pd.to_datetime(train.Date, format='%Y-%m-%d')\n",
    "train['Year'] = train.Date.map(lambda x: x.year)\n",
    "\n",
    "#creating Dataframes were are going to use to map heatmaps by Year\n",
    "heat_df_07 = train[(train['Year']==2007) & (train['WnvPresent']==1)]\n",
    "heat_df_09 = train[(train['Year']==2009) & (train['WnvPresent']==1)]\n",
    "heat_df_11 = train[(train['Year']==2011) & (train['WnvPresent']==1)] \n",
    "heat_df_13 = train[(train['Year']==2011) & (train['WnvPresent']==1)]\n",
    "\n",
    "\n",
    "def plot_heat(df):\n",
    "    # List comprehension to make out list of lists, this is for 2007\n",
    "    heat_data = [[row['Latitude'],row['Longitude']] for index, row in df[['Latitude', 'Longitude']].iterrows()]\n",
    "    \n",
    "    # Plot it on the map\n",
    "    HeatMap(heat_data).add_to(map_heat)\n",
    "    \n",
    "    # Display the map \n",
    "    map_heat\n",
    "    \n",
    "locations = pd.DataFrame({\n",
    "    'Longitude':  [-87.718, -87.903, -87.605, -87.730, -87.789], \n",
    "    'Latitude': [41.936, 41.969, 41.756, 41.753, 41.960] })\n",
    "\n"
   ]
  },
  {
   "cell_type": "code",
   "execution_count": 8,
   "metadata": {},
   "outputs": [
    {
     "data": {
      "text/html": [
       "<div style=\"width:100%;\"><div style=\"position:relative;width:100%;height:0;padding-bottom:60%;\"><iframe src=\"data:text/html;charset=utf-8;base64,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\" style=\"position:absolute;width:100%;height:100%;left:0;top:0;border:none !important;\" allowfullscreen webkitallowfullscreen mozallowfullscreen></iframe></div></div>"
      ],
      "text/plain": [
       "<folium.folium.Map at 0x114bcaeb8>"
      ]
     },
     "execution_count": 8,
     "metadata": {},
     "output_type": "execute_result"
    }
   ],
   "source": [
    "plot_heat(locations)\n",
    "map_heat"
   ]
  },
  {
   "cell_type": "code",
   "execution_count": null,
   "metadata": {},
   "outputs": [],
   "source": []
  }
 ],
 "metadata": {
  "kernelspec": {
   "display_name": "Python 3",
   "language": "python",
   "name": "python3"
  },
  "language_info": {
   "codemirror_mode": {
    "name": "ipython",
    "version": 3
   },
   "file_extension": ".py",
   "mimetype": "text/x-python",
   "name": "python",
   "nbconvert_exporter": "python",
   "pygments_lexer": "ipython3",
   "version": "3.6.4"
  }
 },
 "nbformat": 4,
 "nbformat_minor": 2
}
